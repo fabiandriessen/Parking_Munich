{
 "cells": [
  {
   "cell_type": "code",
   "execution_count": 1,
   "metadata": {},
   "outputs": [],
   "source": [
    "import pandas as pd\n",
    "import numpy as np\n",
    "import matplotlib.pyplot as plt\n",
    "import osmnx as ox\n",
    "import pyrosm as py\n",
    "import ast\n",
    "\n",
    "import haversine as hs\n",
    "import requests\n",
    "import json\n",
    "import googlemaps\n",
    "from datetime import datetime\n",
    "\n",
    "from API import K"
   ]
  },
  {
   "cell_type": "code",
   "execution_count": null,
   "metadata": {},
   "outputs": [],
   "source": [
    "## Import data"
   ]
  },
  {
   "cell_type": "code",
   "execution_count": 32,
   "metadata": {},
   "outputs": [],
   "source": [
    "from io import StringIO\n",
    "from flask import Flask, send_file\n",
    "import numpy as np\n",
    "from skimage.io import imsave\n",
    "import matplotlib.pyplot as plt"
   ]
  },
  {
   "cell_type": "code",
   "execution_count": 3,
   "metadata": {},
   "outputs": [],
   "source": [
    "df_pr=pd.read_excel('Data/P_R_Datenbank_2019_ohne.xlsx')"
   ]
  },
  {
   "cell_type": "code",
   "execution_count": 4,
   "metadata": {},
   "outputs": [],
   "source": [
    "df_pr['P+R']=True\n",
    "df_pr.Day_price.replace('','free',inplace=True)\n"
   ]
  },
  {
   "cell_type": "code",
   "execution_count": 37,
   "metadata": {},
   "outputs": [
    {
     "data": {
      "text/plain": [
       "<module 'ntpath' from 'C:\\\\Users\\\\Fabia\\\\anaconda3\\\\envs\\\\gds\\\\lib\\\\ntpath.py'>"
      ]
     },
     "execution_count": 37,
     "metadata": {},
     "output_type": "execute_result"
    }
   ],
   "source": [
    "os.path\n",
    "# full_filename = os.listdir('Documents/GitHub/Parking_Munich/A_fig.jpg')"
   ]
  },
  {
   "cell_type": "markdown",
   "metadata": {},
   "source": [
    "## Create a random point\n",
    "Random point somewhere in Munich, that might be a destination, to use to test function"
   ]
  },
  {
   "cell_type": "code",
   "execution_count": 5,
   "metadata": {},
   "outputs": [
    {
     "name": "stdout",
     "output_type": "stream",
     "text": [
      "Random point was selected (48.124490882797616, 11.37148850633771)\n"
     ]
    }
   ],
   "source": [
    "#random point somewhere in Munich to tryout script\n",
    "import random\n",
    "\n",
    "latlon_r=(random.uniform(48.248116, 48.061624),random.uniform(11.722910, 11.360777))\n",
    "print(\"Random point was selected\", (latlon_r))"
   ]
  },
  {
   "cell_type": "code",
   "execution_count": 14,
   "metadata": {},
   "outputs": [],
   "source": [
    "def find_nearest_parking(latlon, df=df_pr, expected_arrival=datetime.now()):\n",
    "    \"\"\"Function to find the nearest parkingplace in Munich given a latitude, \n",
    "    longtitude or address and a dataframe with parkings that contains for each entry \\\n",
    "    at least a lon and lat column and optionally an expected arrival time.\"\"\"\n",
    "    if type(latlon) is tuple:\n",
    "        lat_r=latlon[0]\n",
    "        lon_r=latlon[1]\n",
    "    else:\n",
    "        r= requests.get(f\"https://maps.googleapis.com/maps/api/geocode/json?address={'Marienplatz 1,Munich,Germany'}&key={K}\")\n",
    "        #unpack\n",
    "        results = json.loads(r.content)\n",
    "        lat_r=results['results'][0]['geometry']['location']['lat']\n",
    "        lon_r=results['results'][0]['geometry']['location']['lng']\n",
    "    \n",
    "    #create new columns to fill later\n",
    "    df['bird_dist'] = 0\n",
    "    \n",
    "    df['est_time_walking'] = 0\n",
    "    df['est_time_bicycling'] = 0\n",
    "    df['est_time_transit'] = 0\n",
    "    \n",
    "    df['est_dist_walking'] = 0\n",
    "    df['est_dist_bicycling'] = 0\n",
    "    df['est_dist_transit'] = 0\n",
    "    \n",
    "    #combine lat and lon in one column\n",
    "    df['lat_lon']=list(zip(df.lat, df.lon))\n",
    "    \n",
    "    #calculate distance as the crow flies from dest to all parkings\n",
    "    df['bird_dist'] = df.lat_lon.apply(lambda p: hs.haversine((lat_r,lon_r),p))\n",
    "    \n",
    "    #sort values based on bird_dist, reset index\n",
    "    df.sort_values(by='bird_dist',inplace=True)\n",
    "    df.reset_index(drop=True, inplace=True)\n",
    "    \n",
    "    #calculate travel times to final dest for 5 parkings that are the nearest as the crow flies and add them to df\n",
    "    for i in range (5):\n",
    "        for j in ['walking','bicycling','transit']:\n",
    "            #run google api and unpack relevant variables\n",
    "            if type(latlon) is tuple:\n",
    "                r = requests.get(f\"https://maps.googleapis.com/maps/api/directions/json?origin={df.lat[i]},{df.lon[i]}&destination={latlon[0]},{latlon[1]}&mode={j}&key={K}\")\n",
    "            else:\n",
    "                r = requests.get(f\"https://maps.googleapis.com/maps/api/directions/json?origin={df.lat[i]},{df.lon[i]}&destination={latlon}&mode={j}&key={K}\")\n",
    "            #unpack\n",
    "            results = json.loads(r.content)\n",
    "            legs = results.get(\"routes\").pop(0).get(\"legs\")\n",
    "            dur_dist=(legs[0].get(\"duration\"), legs[0].get(\"distance\"))\n",
    "            #save data in previously assigned columns\n",
    "            df['est_time_'+str(j)][i] = dur_dist[0]['text']\n",
    "            df['est_dist_'+str(j)][i] = dur_dist[1]['text']\n",
    "    \n",
    "    #only first 5 are interesting, drop irrelevant columns\n",
    "    df=df[:5].drop(columns=['Bahnhof','BahnhofID','GlobaleID', 'Name','Niveau,N,10,0','bird_dist','P+R','MVTT_x','MVTT_y', \"Georeferenz\", \"Name DIVA\", \"lat_lon\"])\n",
    "    df.rename(columns={\"Alternative_name\": \"Name\"}, inplace=True)\n",
    "    \n",
    "    #subset availability\n",
    "    availability = df.filter(regex='OCC_')\n",
    "    availability = availability.join(df.loc[:,'Name'], lsuffix='_caller', rsuffix='_other')\n",
    "    availability.set_index('Name', drop=True, inplace=True)\n",
    "    \n",
    "    #remove from other dataframe\n",
    "    df.drop(list(df.filter(regex = 'OCC_')), axis = 1, inplace = True)\n",
    "    return(df, availability)"
   ]
  },
  {
   "cell_type": "code",
   "execution_count": 15,
   "metadata": {},
   "outputs": [
    {
     "name": "stderr",
     "output_type": "stream",
     "text": [
      "C:\\Users\\Fabia\\anaconda3\\envs\\gds\\lib\\site-packages\\ipykernel_launcher.py:49: SettingWithCopyWarning: \n",
      "A value is trying to be set on a copy of a slice from a DataFrame\n",
      "\n",
      "See the caveats in the documentation: https://pandas.pydata.org/pandas-docs/stable/user_guide/indexing.html#returning-a-view-versus-a-copy\n",
      "C:\\Users\\Fabia\\anaconda3\\envs\\gds\\lib\\site-packages\\pandas\\core\\indexing.py:670: SettingWithCopyWarning: \n",
      "A value is trying to be set on a copy of a slice from a DataFrame\n",
      "\n",
      "See the caveats in the documentation: https://pandas.pydata.org/pandas-docs/stable/user_guide/indexing.html#returning-a-view-versus-a-copy\n",
      "  iloc._setitem_with_indexer(indexer, value)\n",
      "C:\\Users\\Fabia\\anaconda3\\envs\\gds\\lib\\site-packages\\ipykernel_launcher.py:50: SettingWithCopyWarning: \n",
      "A value is trying to be set on a copy of a slice from a DataFrame\n",
      "\n",
      "See the caveats in the documentation: https://pandas.pydata.org/pandas-docs/stable/user_guide/indexing.html#returning-a-view-versus-a-copy\n"
     ]
    }
   ],
   "source": [
    "results=find_nearest_parking('Marienplatz1, Munich, Germany')"
   ]
  },
  {
   "cell_type": "code",
   "execution_count": 16,
   "metadata": {},
   "outputs": [],
   "source": [
    "df1=results[0]\n",
    "df2=results[1]"
   ]
  },
  {
   "cell_type": "code",
   "execution_count": 17,
   "metadata": {},
   "outputs": [
    {
     "data": {
      "text/html": [
       "<div>\n",
       "<style scoped>\n",
       "    .dataframe tbody tr th:only-of-type {\n",
       "        vertical-align: middle;\n",
       "    }\n",
       "\n",
       "    .dataframe tbody tr th {\n",
       "        vertical-align: top;\n",
       "    }\n",
       "\n",
       "    .dataframe thead th {\n",
       "        text-align: right;\n",
       "    }\n",
       "</style>\n",
       "<table border=\"1\" class=\"dataframe\">\n",
       "  <thead>\n",
       "    <tr style=\"text-align: right;\">\n",
       "      <th></th>\n",
       "      <th>Name</th>\n",
       "      <th>lon</th>\n",
       "      <th>lat</th>\n",
       "      <th>Capacity</th>\n",
       "      <th>P_women</th>\n",
       "      <th>P_family</th>\n",
       "      <th>P_invalid</th>\n",
       "      <th>Entrance</th>\n",
       "      <th>Day_price</th>\n",
       "      <th>Ticket_for_10</th>\n",
       "      <th>Month_ticket</th>\n",
       "      <th>Year_ticket</th>\n",
       "      <th>Link</th>\n",
       "      <th>est_time_walking</th>\n",
       "      <th>est_time_bicycling</th>\n",
       "      <th>est_time_transit</th>\n",
       "      <th>est_dist_walking</th>\n",
       "      <th>est_dist_bicycling</th>\n",
       "      <th>est_dist_transit</th>\n",
       "    </tr>\n",
       "  </thead>\n",
       "  <tbody>\n",
       "    <tr>\n",
       "      <th>0</th>\n",
       "      <td>P+R Heimeranplatz</td>\n",
       "      <td>11.532054</td>\n",
       "      <td>48.131103</td>\n",
       "      <td>310</td>\n",
       "      <td>31.0</td>\n",
       "      <td>NaN</td>\n",
       "      <td>3</td>\n",
       "      <td>Lift</td>\n",
       "      <td>1.5</td>\n",
       "      <td>14.5</td>\n",
       "      <td>19</td>\n",
       "      <td>190</td>\n",
       "      <td>https://www.mvv-muenchen.de/plaene-bahnhoefe/b...</td>\n",
       "      <td>48 mins</td>\n",
       "      <td>16 mins</td>\n",
       "      <td>17 mins</td>\n",
       "      <td>3.8 km</td>\n",
       "      <td>4.3 km</td>\n",
       "      <td>5.3 km</td>\n",
       "    </tr>\n",
       "    <tr>\n",
       "      <th>1</th>\n",
       "      <td>P+R Innsbrucker Ring</td>\n",
       "      <td>11.618515</td>\n",
       "      <td>48.120732</td>\n",
       "      <td>95</td>\n",
       "      <td>NaN</td>\n",
       "      <td>NaN</td>\n",
       "      <td>1</td>\n",
       "      <td>Lift</td>\n",
       "      <td>1.5</td>\n",
       "      <td>14.5</td>\n",
       "      <td>19</td>\n",
       "      <td>190</td>\n",
       "      <td>https://www.mvv-muenchen.de/plaene-bahnhoefe/b...</td>\n",
       "      <td>50 mins</td>\n",
       "      <td>18 mins</td>\n",
       "      <td>10 mins</td>\n",
       "      <td>4.0 km</td>\n",
       "      <td>5.3 km</td>\n",
       "      <td>5.6 km</td>\n",
       "    </tr>\n",
       "    <tr>\n",
       "      <th>2</th>\n",
       "      <td>P+R Mangfallplatz</td>\n",
       "      <td>11.574731</td>\n",
       "      <td>48.095810</td>\n",
       "      <td>255</td>\n",
       "      <td>24.0</td>\n",
       "      <td>NaN</td>\n",
       "      <td>7</td>\n",
       "      <td>Lift</td>\n",
       "      <td>1.5</td>\n",
       "      <td>14.5</td>\n",
       "      <td>19</td>\n",
       "      <td>190</td>\n",
       "      <td>https://www.mvv-muenchen.de/plaene-bahnhoefe/b...</td>\n",
       "      <td>1 hour 7 mins</td>\n",
       "      <td>22 mins</td>\n",
       "      <td>17 mins</td>\n",
       "      <td>5.4 km</td>\n",
       "      <td>6.7 km</td>\n",
       "      <td>6.5 km</td>\n",
       "    </tr>\n",
       "    <tr>\n",
       "      <th>3</th>\n",
       "      <td>P+R Michaelibad</td>\n",
       "      <td>11.631955</td>\n",
       "      <td>48.119178</td>\n",
       "      <td>277</td>\n",
       "      <td>NaN</td>\n",
       "      <td>NaN</td>\n",
       "      <td>NaN</td>\n",
       "      <td>(Roll-)Treppe</td>\n",
       "      <td>1.5</td>\n",
       "      <td>14.5</td>\n",
       "      <td>19</td>\n",
       "      <td>190</td>\n",
       "      <td>https://www.mvv-muenchen.de/plaene-bahnhoefe/b...</td>\n",
       "      <td>1 hour 6 mins</td>\n",
       "      <td>22 mins</td>\n",
       "      <td>14 mins</td>\n",
       "      <td>5.2 km</td>\n",
       "      <td>6.2 km</td>\n",
       "      <td>6.3 km</td>\n",
       "    </tr>\n",
       "    <tr>\n",
       "      <th>4</th>\n",
       "      <td>P+R Olympiazentrum</td>\n",
       "      <td>11.554203</td>\n",
       "      <td>48.180049</td>\n",
       "      <td>274</td>\n",
       "      <td>NaN</td>\n",
       "      <td>NaN</td>\n",
       "      <td>3</td>\n",
       "      <td>Lift</td>\n",
       "      <td>1.5</td>\n",
       "      <td>14.5</td>\n",
       "      <td>19</td>\n",
       "      <td>190</td>\n",
       "      <td>https://www.mvv-muenchen.de/plaene-bahnhoefe/b...</td>\n",
       "      <td>1 hour 16 mins</td>\n",
       "      <td>25 mins</td>\n",
       "      <td>13 mins</td>\n",
       "      <td>6.0 km</td>\n",
       "      <td>6.6 km</td>\n",
       "      <td>6.5 km</td>\n",
       "    </tr>\n",
       "  </tbody>\n",
       "</table>\n",
       "</div>"
      ],
      "text/plain": [
       "                   Name        lon        lat  Capacity  P_women  P_family  \\\n",
       "0     P+R Heimeranplatz  11.532054  48.131103       310     31.0       NaN   \n",
       "1  P+R Innsbrucker Ring  11.618515  48.120732        95      NaN       NaN   \n",
       "2     P+R Mangfallplatz  11.574731  48.095810       255     24.0       NaN   \n",
       "3       P+R Michaelibad  11.631955  48.119178       277      NaN       NaN   \n",
       "4    P+R Olympiazentrum  11.554203  48.180049       274      NaN       NaN   \n",
       "\n",
       "  P_invalid       Entrance  Day_price Ticket_for_10 Month_ticket Year_ticket  \\\n",
       "0         3           Lift        1.5          14.5           19         190   \n",
       "1         1           Lift        1.5          14.5           19         190   \n",
       "2         7           Lift        1.5          14.5           19         190   \n",
       "3       NaN  (Roll-)Treppe        1.5          14.5           19         190   \n",
       "4         3           Lift        1.5          14.5           19         190   \n",
       "\n",
       "                                                Link est_time_walking  \\\n",
       "0  https://www.mvv-muenchen.de/plaene-bahnhoefe/b...          48 mins   \n",
       "1  https://www.mvv-muenchen.de/plaene-bahnhoefe/b...          50 mins   \n",
       "2  https://www.mvv-muenchen.de/plaene-bahnhoefe/b...    1 hour 7 mins   \n",
       "3  https://www.mvv-muenchen.de/plaene-bahnhoefe/b...    1 hour 6 mins   \n",
       "4  https://www.mvv-muenchen.de/plaene-bahnhoefe/b...   1 hour 16 mins   \n",
       "\n",
       "  est_time_bicycling est_time_transit est_dist_walking est_dist_bicycling  \\\n",
       "0            16 mins          17 mins           3.8 km             4.3 km   \n",
       "1            18 mins          10 mins           4.0 km             5.3 km   \n",
       "2            22 mins          17 mins           5.4 km             6.7 km   \n",
       "3            22 mins          14 mins           5.2 km             6.2 km   \n",
       "4            25 mins          13 mins           6.0 km             6.6 km   \n",
       "\n",
       "  est_dist_transit  \n",
       "0           5.3 km  \n",
       "1           5.6 km  \n",
       "2           6.5 km  \n",
       "3           6.3 km  \n",
       "4           6.5 km  "
      ]
     },
     "execution_count": 17,
     "metadata": {},
     "output_type": "execute_result"
    }
   ],
   "source": [
    "df1"
   ]
  },
  {
   "cell_type": "code",
   "execution_count": null,
   "metadata": {},
   "outputs": [],
   "source": [
    "#Want to plot the occupancy\n",
    "a=results[1]\n",
    "\n",
    "#Delete parkings of which we don't have the occupancy\n",
    "a.dropna(how=\"all\", axis=1, inplace=True)\n",
    "\n",
    "#Give columns plottable name\n",
    "a.columns=list(np.arange(5,23,1))\n",
    "\n",
    "#setup grid\n",
    "fig,ax=plt.subplots(1,1,dpi=100, figsize=(8,5))\n",
    "tcks=[]\n",
    "locs=[]\n",
    "for i in range(5,23,3):\n",
    "    tcks.append(str(i)+\"h\")\n",
    "    locs.append(i)\n",
    "plt.xticks(locs, tcks)\n",
    "\n",
    "#plot vertical line at current time if \n",
    "if 5<datetime.now().hour<22:\n",
    "    plt.axvline(x=(datetime.now().hour+(datetime.now().minute/60)), linestyle=\"--\", alpha=0.5, color='r', label='Current_time')\n",
    "ax.set_xlabel('Time of day')\n",
    "ax.set_ylabel('Expected occupancy [%]')\n",
    "ax.set_title('Expected occupancy during the day')\n",
    "\n",
    "for i,j in enumerate(a.index):\n",
    "    print()\n",
    "    ax=a.iloc[i].plot(alpha=0.5)\n",
    "\n",
    "# legend = plt.legend(loc=\"lower left\", edgecolor=\"black\", fontsize=8, framealpha=0)\n",
    "ax.legend(loc='upper center', bbox_to_anchor=(0.5, -0.10),\n",
    "          fancybox=True, shadow=True, ncol=5)"
   ]
  },
  {
   "cell_type": "code",
   "execution_count": 21,
   "metadata": {},
   "outputs": [],
   "source": [
    "# as a function\n",
    "def vis_occ(df1):\n",
    "    a=results[1]\n",
    "\n",
    "    #Delete parkings of which we don't have the occupancy\n",
    "    a.dropna(how=\"all\", axis=1, inplace=True)\n",
    "\n",
    "    #Give columns plottable name\n",
    "    a.columns=list(np.arange(5,23,1))\n",
    "\n",
    "    #setup grid\n",
    "    fig,ax=plt.subplots(1,1,dpi=100, figsize=(8,5))\n",
    "    tcks=[]\n",
    "    locs=[]\n",
    "    for i in range(5,23,3):\n",
    "        tcks.append(str(i)+\"h\")\n",
    "        locs.append(i)\n",
    "    plt.xticks(locs, tcks)\n",
    "\n",
    "    #plot vertical line at current time if \n",
    "    if 5<datetime.now().hour<22:\n",
    "        plt.axvline(x=(datetime.now().hour+(datetime.now().minute/60)), linestyle=\"--\", alpha=0.5, color='r', label='Current_time')\n",
    "    ax.set_xlabel('Time of day')\n",
    "    ax.set_ylabel('Expected occupancy [%]')\n",
    "    ax.set_title('Expected occupancy during the day')\n",
    "\n",
    "    for i,j in enumerate(a.index):\n",
    "        print()\n",
    "        ax=a.iloc[i].plot(alpha=0.5)\n",
    "\n",
    "    # legend = plt.legend(loc=\"lower left\", edgecolor=\"black\", fontsize=8, framealpha=0)\n",
    "    ax.legend(loc='upper center', bbox_to_anchor=(0.5, -0.10),\n",
    "          fancybox=True, shadow=True, ncol=5)\n",
    "    return(fig)"
   ]
  },
  {
   "cell_type": "code",
   "execution_count": 23,
   "metadata": {},
   "outputs": [
    {
     "name": "stdout",
     "output_type": "stream",
     "text": [
      "\n",
      "\n",
      "\n",
      "\n",
      "\n"
     ]
    },
    {
     "data": {
      "image/png": "[encoded data removed]",
      "text/plain": [
       "<Figure size 800x500 with 1 Axes>"
      ]
     },
     "metadata": {
      "needs_background": "light"
     },
     "output_type": "display_data"
    }
   ],
   "source": [
    "a=vis_occ(results[1])"
   ]
  },
  {
   "cell_type": "markdown",
   "metadata": {},
   "source": [
    "## Lookup other potential data suppliers"
   ]
  },
  {
   "cell_type": "code",
   "execution_count": null,
   "metadata": {},
   "outputs": [],
   "source": [
    "df_11=pd.read_excel('Data/Parkings_in_and_near.xlsx')"
   ]
  },
  {
   "cell_type": "code",
   "execution_count": null,
   "metadata": {},
   "outputs": [],
   "source": [
    "for i in df_11.columns:\n",
    "    print(i, df_11[i].count(), df_11[i].nunique())"
   ]
  },
  {
   "cell_type": "code",
   "execution_count": null,
   "metadata": {},
   "outputs": [],
   "source": [
    "df_11.operator.unique()"
   ]
  },
  {
   "cell_type": "code",
   "execution_count": null,
   "metadata": {},
   "outputs": [],
   "source": [
    "df_12=df_11.copy()\n",
    "df_12.dropna(subset=['operator'],inplace=True)\n",
    "df_12.drop(columns=['tags'],inplace=True)\n",
    "df_12[df_12['operator'].str.contains(\"Contipark\")].dropna(how='all',axis=1).operator"
   ]
  },
  {
   "cell_type": "code",
   "execution_count": null,
   "metadata": {},
   "outputs": [],
   "source": [
    "df_12[df_12['operator'].str.contains(\"Contipark\")].dropna(how='all',axis=1)"
   ]
  },
  {
   "cell_type": "code",
   "execution_count": null,
   "metadata": {},
   "outputs": [],
   "source": []
  }
 ],
 "metadata": {
  "kernelspec": {
   "display_name": "Python 3",
   "language": "python",
   "name": "python3"
  },
  "language_info": {
   "codemirror_mode": {
    "name": "ipython",
    "version": 3
   },
   "file_extension": ".py",
   "mimetype": "text/x-python",
   "name": "python",
   "nbconvert_exporter": "python",
   "pygments_lexer": "ipython3",
   "version": "3.7.8"
  }
 },
 "nbformat": 4,
 "nbformat_minor": 4
}
